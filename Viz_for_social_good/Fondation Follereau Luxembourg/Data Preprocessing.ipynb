{
 "cells": [
  {
   "cell_type": "code",
   "execution_count": 1,
   "metadata": {
    "ExecuteTime": {
     "end_time": "2021-02-13T13:56:42.871670Z",
     "start_time": "2021-02-13T13:56:42.088584Z"
    }
   },
   "outputs": [],
   "source": [
    "import pandas as pd\n",
    "pd.options.display.max_rows = 500\n",
    "import ipywidgets as widgets\n",
    "from IPython.display import display"
   ]
  },
  {
   "cell_type": "code",
   "execution_count": 2,
   "metadata": {
    "ExecuteTime": {
     "end_time": "2021-01-31T12:41:46.244985Z",
     "start_time": "2021-01-31T12:41:45.984403Z"
    }
   },
   "outputs": [],
   "source": [
    "df1 = pd.read_excel('Data/FFL Data #Vizforsocialgood_201026_EN.xlsx', sheet_name='2018').T\n",
    "# df1"
   ]
  },
  {
   "cell_type": "code",
   "execution_count": null,
   "metadata": {
    "ExecuteTime": {
     "end_time": "2021-01-25T12:05:32.408115Z",
     "start_time": "2021-01-25T12:05:32.400122Z"
    }
   },
   "outputs": [],
   "source": [
    "df1.fillna(\"\", inplace=True)"
   ]
  },
  {
   "cell_type": "code",
   "execution_count": null,
   "metadata": {
    "ExecuteTime": {
     "end_time": "2021-01-25T12:05:32.881359Z",
     "start_time": "2021-01-25T12:05:32.869365Z"
    }
   },
   "outputs": [],
   "source": [
    "df1['Final_result'] = df1[[11, 12, 13, 14, 15]].agg(' $% '.join, axis=1) "
   ]
  },
  {
   "cell_type": "code",
   "execution_count": null,
   "metadata": {
    "ExecuteTime": {
     "end_time": "2021-01-25T12:05:33.409517Z",
     "start_time": "2021-01-25T12:05:33.404519Z"
    }
   },
   "outputs": [],
   "source": [
    "df1.drop([11,12,13,14,15], inplace=True, axis=1)"
   ]
  },
  {
   "cell_type": "code",
   "execution_count": null,
   "metadata": {
    "ExecuteTime": {
     "end_time": "2021-01-25T12:05:33.891064Z",
     "start_time": "2021-01-25T12:05:33.885070Z"
    }
   },
   "outputs": [],
   "source": [
    "df1.reset_index(inplace=True)"
   ]
  },
  {
   "cell_type": "code",
   "execution_count": null,
   "metadata": {
    "ExecuteTime": {
     "end_time": "2021-01-25T12:05:34.418096Z",
     "start_time": "2021-01-25T12:05:34.412097Z"
    }
   },
   "outputs": [],
   "source": [
    "df1.columns = df1.iloc[0, :]"
   ]
  },
  {
   "cell_type": "code",
   "execution_count": null,
   "metadata": {
    "ExecuteTime": {
     "end_time": "2021-01-25T12:10:19.455366Z",
     "start_time": "2021-01-25T12:10:19.450372Z"
    }
   },
   "outputs": [],
   "source": [
    "df1.rename(columns={\"2018 results $%  $%  $%  $% \": \"Final_result\",\n",
    "                    'Voted 2018 project budget €': 'Voted Year project budget €',\n",
    "                    'Voted 2018 country budget €': 'Voted Year country budget €',\n",
    "                    \"Type de financement (tel que présenté dans l'Accord-Cadre 2016-2020)\":'Project financing (as per the 2016-2020 cooperation agreement)'}, inplace=True)"
   ]
  },
  {
   "cell_type": "code",
   "execution_count": null,
   "metadata": {
    "ExecuteTime": {
     "end_time": "2021-01-25T12:05:38.655037Z",
     "start_time": "2021-01-25T12:05:38.650038Z"
    }
   },
   "outputs": [],
   "source": [
    "df1.drop(0, inplace=True)"
   ]
  },
  {
   "cell_type": "code",
   "execution_count": null,
   "metadata": {
    "ExecuteTime": {
     "end_time": "2021-01-25T12:05:39.136184Z",
     "start_time": "2021-01-25T12:05:39.131188Z"
    }
   },
   "outputs": [],
   "source": [
    "df1['Year'] = 2018"
   ]
  },
  {
   "cell_type": "code",
   "execution_count": null,
   "metadata": {
    "ExecuteTime": {
     "end_time": "2021-01-25T12:10:45.138913Z",
     "start_time": "2021-01-25T12:10:45.084920Z"
    }
   },
   "outputs": [],
   "source": [
    "df2 = pd.read_excel('Data/FFL Data #Vizforsocialgood_201026_EN.xlsx', sheet_name='2019').T"
   ]
  },
  {
   "cell_type": "code",
   "execution_count": null,
   "metadata": {
    "ExecuteTime": {
     "end_time": "2021-01-25T12:10:45.466056Z",
     "start_time": "2021-01-25T12:10:45.439052Z"
    }
   },
   "outputs": [],
   "source": [
    "df2.fillna(\"\", inplace=True)\n",
    "df2['Final_result'] = df2[[11, 12, 13, 14, 15, 16, 17]].agg(' $% '.join, axis=1)\n",
    "df2.drop([11,12,13,14,15, 16, 17], inplace=True, axis=1)\n",
    "df2.reset_index(inplace=True)\n",
    "df2.columns = df2.iloc[0, :]\n",
    "df2.rename(columns={'2019 results $%  $%  $%  $%  $%  $% ': \"Final_result\",\n",
    "                    'Voted 2019 project budget €': 'Voted Year project budget €',\n",
    "                    'Voted 2019 country budget €': 'Voted Year country budget €',\n",
    "                    \"Type de financement (tel que présenté dans l'Accord-Cadre 2016-2020)\":'Project financing (as per the 2016-2020 cooperation agreement)'}, inplace=True)\n",
    "df2.drop(0, inplace=True)\n",
    "df2['Year'] = 2019"
   ]
  },
  {
   "cell_type": "code",
   "execution_count": null,
   "metadata": {
    "ExecuteTime": {
     "end_time": "2021-01-25T12:05:57.546258Z",
     "start_time": "2021-01-25T12:05:57.488292Z"
    }
   },
   "outputs": [],
   "source": [
    "df3 = pd.read_excel('Data/FFL Data #Vizforsocialgood_201026_EN.xlsx', sheet_name='2020').T"
   ]
  },
  {
   "cell_type": "code",
   "execution_count": null,
   "metadata": {
    "ExecuteTime": {
     "end_time": "2021-01-25T12:06:24.246881Z",
     "start_time": "2021-01-25T12:06:24.235890Z"
    }
   },
   "outputs": [],
   "source": [
    "df3.reset_index(inplace=True)\n",
    "df3.columns = df3.iloc[0, :]\n",
    "df3.drop(0, inplace=True)\n",
    "df3['Year'] = 2020\n",
    "df3.rename(columns={'Voted 2020 project budget €': 'Voted Year project budget €',\n",
    "                    'Voted 2020 country budget €': 'Voted Year country budget €'}, inplace=True)"
   ]
  },
  {
   "cell_type": "code",
   "execution_count": null,
   "metadata": {
    "ExecuteTime": {
     "end_time": "2021-01-25T12:13:07.305077Z",
     "start_time": "2021-01-25T12:13:07.298084Z"
    }
   },
   "outputs": [],
   "source": [
    "result = pd.concat([df1, df2, df3], ignore_index=True)"
   ]
  },
  {
   "cell_type": "code",
   "execution_count": null,
   "metadata": {
    "ExecuteTime": {
     "end_time": "2021-01-25T12:21:05.189459Z",
     "start_time": "2021-01-25T12:21:05.183463Z"
    }
   },
   "outputs": [],
   "source": [
    "result.Country = result.Country.str.split('.').str[0]"
   ]
  },
  {
   "cell_type": "code",
   "execution_count": null,
   "metadata": {
    "ExecuteTime": {
     "end_time": "2021-01-25T12:21:07.008977Z",
     "start_time": "2021-01-25T12:21:06.996984Z"
    }
   },
   "outputs": [],
   "source": [
    "result.to_csv('final_data.csv', index=False)"
   ]
  }
 ],
 "metadata": {
  "kernelspec": {
   "display_name": "Python 3",
   "language": "python",
   "name": "python3"
  },
  "language_info": {
   "codemirror_mode": {
    "name": "ipython",
    "version": 3
   },
   "file_extension": ".py",
   "mimetype": "text/x-python",
   "name": "python",
   "nbconvert_exporter": "python",
   "pygments_lexer": "ipython3",
   "version": "3.8.3"
  },
  "toc": {
   "base_numbering": 1,
   "nav_menu": {},
   "number_sections": true,
   "sideBar": true,
   "skip_h1_title": false,
   "title_cell": "Table of Contents",
   "title_sidebar": "Contents",
   "toc_cell": false,
   "toc_position": {},
   "toc_section_display": true,
   "toc_window_display": false
  }
 },
 "nbformat": 4,
 "nbformat_minor": 4
}
